{
 "cells": [
  {
   "cell_type": "code",
   "execution_count": 1,
   "metadata": {},
   "outputs": [],
   "source": [
    "import numpy as np\n",
    "import pandas as pd\n",
    "import cv2 as cv\n",
    "import cv2\n",
    "import os\n",
    "import matplotlib.pyplot as plt"
   ]
  },
  {
   "cell_type": "code",
   "execution_count": 11,
   "metadata": {},
   "outputs": [],
   "source": [
    "for count, filename in enumerate(os.listdir(\"images\")):\n",
    "    image = cv2.imread(\"images/\" + filename)\n",
    "    \n",
    "    height, width = image.shape[:2]\n",
    "    res = cv.resize(image,(int(0.1*width), int(0.1*height)))\n",
    "    cv2.imwrite(\"small_images/\" + filename, res)\n"
   ]
  },
  {
   "cell_type": "code",
   "execution_count": 3,
   "metadata": {},
   "outputs": [],
   "source": [
    "for count, filename in enumerate(os.listdir(\"test_images\")):\n",
    "    image = cv2.imread(\"test_images/\" + filename)\n",
    "    \n",
    "    height, width = image.shape[:2]\n",
    "    res = cv.resize(image,(int(0.1*width), int(0.1*height)))\n",
    "    cv2.imwrite(\"small_images/\" + \"f\" + str(1443+count) + \".png\", res)\n"
   ]
  }
 ],
 "metadata": {
  "kernelspec": {
   "display_name": "Python 3",
   "language": "python",
   "name": "python3"
  },
  "language_info": {
   "codemirror_mode": {
    "name": "ipython",
    "version": 3
   },
   "file_extension": ".py",
   "mimetype": "text/x-python",
   "name": "python",
   "nbconvert_exporter": "python",
   "pygments_lexer": "ipython3",
   "version": "3.7.3"
  }
 },
 "nbformat": 4,
 "nbformat_minor": 2
}
