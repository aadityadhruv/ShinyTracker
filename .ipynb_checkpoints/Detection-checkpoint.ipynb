{
 "cells": [
  {
   "cell_type": "code",
   "execution_count": 1,
   "metadata": {},
   "outputs": [],
   "source": [
    "import numpy as np\n",
    "import pandas as pd\n",
    "import cv2 as cv\n",
    "import cv2\n",
    "import matplotlib.pyplot as plt\n",
    "import time"
   ]
  },
  {
   "cell_type": "code",
   "execution_count": 2,
   "metadata": {},
   "outputs": [],
   "source": [
    "def callback():\n",
    "    x = 0"
   ]
  },
  {
   "cell_type": "code",
   "execution_count": 3,
   "metadata": {},
   "outputs": [
    {
     "name": "stdout",
     "output_type": "stream",
     "text": [
      "len 31\n",
      "i 0\n",
      "i 1\n",
      "i 2\n",
      "i 3\n",
      "i 4\n",
      "i 5\n",
      "i 6\n",
      "i 7\n",
      "i 8\n",
      "i 9\n",
      "i 10\n",
      "i 11\n",
      "i 12\n",
      "i 13\n",
      "i 14\n",
      "i 15\n",
      "i 16\n"
     ]
    },
    {
     "ename": "IndexError",
     "evalue": "list index out of range",
     "output_type": "error",
     "traceback": [
      "\u001b[1;31m---------------------------------------------------------------------------\u001b[0m",
      "\u001b[1;31mIndexError\u001b[0m                                Traceback (most recent call last)",
      "\u001b[1;32m<ipython-input-3-12ebfc0f8be9>\u001b[0m in \u001b[0;36m<module>\u001b[1;34m\u001b[0m\n\u001b[0;32m     29\u001b[0m     \u001b[1;32mfor\u001b[0m \u001b[0mi\u001b[0m \u001b[1;32min\u001b[0m \u001b[0mrange\u001b[0m\u001b[1;33m(\u001b[0m\u001b[0mlen\u001b[0m\u001b[1;33m(\u001b[0m\u001b[0mcontours\u001b[0m\u001b[1;33m)\u001b[0m \u001b[1;33m-\u001b[0m \u001b[1;36m1\u001b[0m\u001b[1;33m)\u001b[0m\u001b[1;33m:\u001b[0m\u001b[1;33m\u001b[0m\u001b[1;33m\u001b[0m\u001b[0m\n\u001b[0;32m     30\u001b[0m         \u001b[0mprint\u001b[0m\u001b[1;33m(\u001b[0m\u001b[1;34m\"i\"\u001b[0m \u001b[1;33m,\u001b[0m\u001b[0mi\u001b[0m\u001b[1;33m)\u001b[0m\u001b[1;33m\u001b[0m\u001b[1;33m\u001b[0m\u001b[0m\n\u001b[1;32m---> 31\u001b[1;33m         \u001b[1;32mif\u001b[0m \u001b[0mi\u001b[0m \u001b[1;33m>=\u001b[0m\u001b[1;36m0\u001b[0m \u001b[1;32mand\u001b[0m \u001b[0mcv2\u001b[0m\u001b[1;33m.\u001b[0m\u001b[0mcontourArea\u001b[0m\u001b[1;33m(\u001b[0m\u001b[0mcontours\u001b[0m\u001b[1;33m[\u001b[0m\u001b[0mi\u001b[0m\u001b[1;33m]\u001b[0m\u001b[1;33m)\u001b[0m \u001b[1;33m<\u001b[0m \u001b[1;36m100\u001b[0m\u001b[1;33m:\u001b[0m\u001b[1;33m\u001b[0m\u001b[1;33m\u001b[0m\u001b[0m\n\u001b[0m\u001b[0;32m     32\u001b[0m             \u001b[0mcontours\u001b[0m\u001b[1;33m.\u001b[0m\u001b[0mpop\u001b[0m\u001b[1;33m(\u001b[0m\u001b[0mi\u001b[0m\u001b[1;33m)\u001b[0m\u001b[1;33m\u001b[0m\u001b[1;33m\u001b[0m\u001b[0m\n\u001b[0;32m     33\u001b[0m \u001b[1;33m\u001b[0m\u001b[0m\n",
      "\u001b[1;31mIndexError\u001b[0m: list index out of range"
     ]
    }
   ],
   "source": [
    "#code detects the bounding box well, and will draw top 3 approximated boxes for the top 3 contours\n",
    "t_end = time.time() + 2\n",
    "points = []\n",
    "a = []\n",
    "cap = cv.VideoCapture('http://192.168.1.8:8080/video')\n",
    "num_con = 2\n",
    "final_frame = []\n",
    "cv2.namedWindow(\"frame\")\n",
    "i = 1\n",
    "#time.time() < t_end\n",
    "while(True):\n",
    "    #Read frames and convert to gray\n",
    "    ret, frame = cap.read()\n",
    "    gray = cv.cvtColor(frame, cv.COLOR_BGR2GRAY)\n",
    "    \n",
    "    #preprocess gaussian blur and thresholding for canny\n",
    "    blur = cv.GaussianBlur(gray,(5,5),0)\n",
    "    ret,thresh1 = cv2.threshold(blur,127,255,cv2.THRESH_TRUNC)\n",
    "    \n",
    "    #Canny using custom min/max values\n",
    "    l = 100\n",
    "    u = 180\n",
    "    canny = cv.Canny(thresh1, l, u)\n",
    "    \n",
    "    #Get contrours from canny, and obtain best contours by area\n",
    "    contours, hierarchy = cv2.findContours(canny, cv2.RETR_EXTERNAL, cv2.CHAIN_APPROX_NONE)\n",
    "    \n",
    "    print(\"len\", len(contours))\n",
    "    for i in range(len(contours) - 1):\n",
    "        print(\"i\" ,i)\n",
    "        if i >=0 and cv2.contourArea(contours[i]) < 100:\n",
    "            contours.pop(i)\n",
    "    \n",
    "    \n",
    "    \n",
    "    \n",
    "    cv2.putText(frame, str(len(contours)), (50, 50), cv2.FONT_HERSHEY_SIMPLEX ,  \n",
    "                   1, (255, 0, 0) , 1, cv2.LINE_AA) \n",
    "    sort = sorted(contours, key=lambda x : cv2.contourArea(x), reverse=True)\n",
    "    cv2.putText(frame, str(len(sort)), (150, 50), cv2.FONT_HERSHEY_SIMPLEX ,  \n",
    "                   1, (255, 0, 0) , 1, cv2.LINE_AA) \n",
    "    im = cv2.drawContours(frame,sort,0,(0,255,0),2)\n",
    "    cv.imshow('frame',frame)\n",
    "    good_features = sort[:num_con]\n",
    "    \n",
    "    #a.append(len(good_features))\n",
    "    \n",
    "    #Plot the min bounding box based on the contours\n",
    "    for cnt in good_features:\n",
    "        rect = cv2.minAreaRect(cnt)\n",
    "        \n",
    "        box = cv2.boxPoints(rect)\n",
    "        box = np.int0(box)\n",
    "        points.append(box)\n",
    "        im = cv2.drawContours(frame,[box],0,(0,0,255),2)\n",
    "    \n",
    "    #Show the frame\n",
    "    final_frame = frame\n",
    "    \n",
    "    #cv.imwrite(str(i) + \".png\", frame)\n",
    "    i += 1\n",
    "    cv.resizeWindow('frame', 800, 600)\n",
    "    \n",
    "    #Exit condition\n",
    "    if cv.waitKey(1) & 0xFF == ord('q'):\n",
    "        #Destroy windows on release\n",
    "        cap.release()\n",
    "        cv.destroyAllWindows()\n",
    "cv.destroyAllWindows()"
   ]
  },
  {
   "cell_type": "code",
   "execution_count": null,
   "metadata": {},
   "outputs": [],
   "source": [
    "arr_points = np.array(points)"
   ]
  },
  {
   "cell_type": "code",
   "execution_count": null,
   "metadata": {},
   "outputs": [],
   "source": [
    "median_list = []"
   ]
  },
  {
   "cell_type": "code",
   "execution_count": null,
   "metadata": {},
   "outputs": [],
   "source": [
    "for i in range(4):\n",
    "    x = arr_points[:,i:i+1,0:1]\n",
    "    y = arr_points[:,i:i+1,1:2]\n",
    "    xt = np.resize(x, (248))\n",
    "    yt = np.resize(y, (248))\n",
    "    xm = np.median(xt)\n",
    "    ym = np.median(yt)\n",
    "    median_list.append([xm,ym])"
   ]
  },
  {
   "cell_type": "code",
   "execution_count": null,
   "metadata": {},
   "outputs": [],
   "source": [
    "median_list = np.int0(median_list)"
   ]
  },
  {
   "cell_type": "code",
   "execution_count": null,
   "metadata": {},
   "outputs": [],
   "source": [
    "median_list"
   ]
  },
  {
   "cell_type": "code",
   "execution_count": null,
   "metadata": {},
   "outputs": [],
   "source": [
    "plt.imshow(cv2.cvtColor(final_frame, cv2.COLOR_BGR2RGB))"
   ]
  },
  {
   "cell_type": "code",
   "execution_count": null,
   "metadata": {},
   "outputs": [],
   "source": [
    "ff_copy = final_frame"
   ]
  },
  {
   "cell_type": "code",
   "execution_count": null,
   "metadata": {},
   "outputs": [],
   "source": [
    "cv2.drawContours(ff_copy,[median_list],0,(0,255,0),2)\n",
    "plt.imshow(cv2.cvtColor(ff_copy, cv2.COLOR_BGR2RGB))"
   ]
  }
 ],
 "metadata": {
  "kernelspec": {
   "display_name": "Python 3",
   "language": "python",
   "name": "python3"
  },
  "language_info": {
   "codemirror_mode": {
    "name": "ipython",
    "version": 3
   },
   "file_extension": ".py",
   "mimetype": "text/x-python",
   "name": "python",
   "nbconvert_exporter": "python",
   "pygments_lexer": "ipython3",
   "version": "3.7.3"
  }
 },
 "nbformat": 4,
 "nbformat_minor": 2
}
