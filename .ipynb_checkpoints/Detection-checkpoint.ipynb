{
 "cells": [
  {
   "cell_type": "code",
   "execution_count": 1,
   "metadata": {},
   "outputs": [],
   "source": [
    "import numpy as np\n",
    "import pandas as pd\n",
    "import cv2 as cv\n",
    "import cv2\n",
    "import matplotlib.pyplot as plt"
   ]
  },
  {
   "cell_type": "code",
   "execution_count": 2,
   "metadata": {},
   "outputs": [],
   "source": [
    "def callback():\n",
    "    x = 0"
   ]
  },
  {
   "cell_type": "code",
   "execution_count": 14,
   "metadata": {},
   "outputs": [],
   "source": [
    "cap = cv.VideoCapture('http://192.168.1.8:8080/video')\n",
    "num_con = 2\n",
    "cv2.namedWindow(\"frame\")\n",
    "#cv2.createTrackbar('L', 'frame', 0, 255, callback)\n",
    "#cv2.createTrackbar('U', 'frame', 0, 255, callback)\n",
    "while(True):\n",
    "    ret, frame = cap.read()\n",
    "    gray = cv.cvtColor(frame, cv.COLOR_BGR2GRAY)\n",
    "    blur = cv.GaussianBlur(gray,(5,5),0)\n",
    "    ret,thresh1 = cv2.threshold(blur,127,255,cv2.THRESH_TRUNC)\n",
    "    \n",
    "    #l = cv2.getTrackbarPos('L', 'frame')\n",
    "    #u = cv2.getTrackbarPos('U', 'frame')\n",
    "    l = 100\n",
    "    u = 180\n",
    "    canny = cv.Canny(thresh1, l, u)\n",
    "    contours, hierarchy = cv2.findContours(canny, cv2.RETR_EXTERNAL, cv2.CHAIN_APPROX_NONE)\n",
    "    sort = sorted(contours, key=lambda x : cv2.contourArea(x), reverse=True)\n",
    "    good_features = sort[:num_con]\n",
    "    #cv.drawContours(frame, good_features, -1, (0,255,0), 3)\n",
    "    for cnt in good_features:\n",
    "        rect = cv2.minAreaRect(cnt)\n",
    "        box = cv2.boxPoints(rect)\n",
    "        box = np.int0(box)\n",
    "        im = cv2.drawContours(frame,[box],0,(0,0,255),2)\n",
    "    \n",
    "    cv.imshow('frame',frame)\n",
    "    \n",
    "    cv.resizeWindow('frame', 800, 600)\n",
    "    if cv.waitKey(1) & 0xFF == ord('q'):\n",
    "        break\n",
    "\n",
    "cap.release()\n",
    "cv.destroyAllWindows()"
   ]
  },
  {
   "cell_type": "code",
   "execution_count": null,
   "metadata": {},
   "outputs": [],
   "source": []
  }
 ],
 "metadata": {
  "kernelspec": {
   "display_name": "Python 3",
   "language": "python",
   "name": "python3"
  },
  "language_info": {
   "codemirror_mode": {
    "name": "ipython",
    "version": 3
   },
   "file_extension": ".py",
   "mimetype": "text/x-python",
   "name": "python",
   "nbconvert_exporter": "python",
   "pygments_lexer": "ipython3",
   "version": "3.7.3"
  }
 },
 "nbformat": 4,
 "nbformat_minor": 2
}
