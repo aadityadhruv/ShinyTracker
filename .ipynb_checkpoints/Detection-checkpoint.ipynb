{
 "cells": [
  {
   "cell_type": "code",
   "execution_count": 1,
   "metadata": {},
   "outputs": [],
   "source": [
    "import numpy as np\n",
    "import pandas as pd\n",
    "import cv2 as cv\n",
    "import cv2\n",
    "import matplotlib.pyplot as plt\n",
    "import time"
   ]
  },
  {
   "cell_type": "code",
   "execution_count": 2,
   "metadata": {},
   "outputs": [],
   "source": [
    "def callback():\n",
    "    x = 0"
   ]
  },
  {
   "cell_type": "code",
   "execution_count": 3,
   "metadata": {},
   "outputs": [],
   "source": [
    "#code detects the bounding box well, and will draw top 3 approximated boxes for the top 3 contours\n",
    "t_end = time.time() + 5\n",
    "points = []\n",
    "cap = cv.VideoCapture('http://192.168.1.8:8080/video')\n",
    "num_con = 2\n",
    "cv2.namedWindow(\"frame\")\n",
    "\n",
    "while(time.time() < t_end):\n",
    "    #Read frames and convert to gray\n",
    "    ret, frame = cap.read()\n",
    "    gray = cv.cvtColor(frame, cv.COLOR_BGR2GRAY)\n",
    "    \n",
    "    #preprocess gaussian blur and thresholding for canny\n",
    "    blur = cv.GaussianBlur(gray,(5,5),0)\n",
    "    ret,thresh1 = cv2.threshold(blur,127,255,cv2.THRESH_TRUNC)\n",
    "    \n",
    "    #Canny using custom min/max values\n",
    "    l = 100\n",
    "    u = 180\n",
    "    canny = cv.Canny(thresh1, l, u)\n",
    "    \n",
    "    #Get contrours from canny, and obtain best contours by area\n",
    "    contours, hierarchy = cv2.findContours(canny, cv2.RETR_EXTERNAL, cv2.CHAIN_APPROX_NONE)\n",
    "    sort = sorted(contours, key=lambda x : cv2.contourArea(x), reverse=True)\n",
    "    good_features = sort[:num_con]\n",
    "    \n",
    "    \n",
    "    #Plot the min bounding box based on the contours\n",
    "    for cnt in good_features:\n",
    "        rect = cv2.minAreaRect(cnt)\n",
    "        box = cv2.boxPoints(rect)\n",
    "        box = np.int0(box)\n",
    "        points.append(box)\n",
    "        im = cv2.drawContours(frame,[box],0,(0,0,255),2)\n",
    "    \n",
    "    #Show the frame\n",
    "    cv.imshow('frame',frame)\n",
    "    cv.resizeWindow('frame', 800, 600)\n",
    "    \n",
    "    #Exit condition\n",
    "    if cv.waitKey(1) & 0xFF == ord('q'):\n",
    "        #Destroy windows on release\n",
    "        cap.release()\n",
    "        cv.destroyAllWindows()\n",
    "cv.destroyAllWindows()"
   ]
  },
  {
   "cell_type": "code",
   "execution_count": 11,
   "metadata": {},
   "outputs": [],
   "source": [
    "arr_points = np.array(points)"
   ]
  },
  {
   "cell_type": "code",
   "execution_count": 28,
   "metadata": {},
   "outputs": [
    {
     "data": {
      "text/plain": [
       "array([[[603, 364],\n",
       "        [204, 364],\n",
       "        [204,  70],\n",
       "        [603,  70]],\n",
       "\n",
       "       [[747, 315],\n",
       "        [733, 314],\n",
       "        [735, 285],\n",
       "        [748, 286]],\n",
       "\n",
       "       [[753,  52],\n",
       "        [750,  37],\n",
       "        [798,  29],\n",
       "        [801,  45]],\n",
       "\n",
       "       ...,\n",
       "\n",
       "       [[ 51, 490],\n",
       "        [ 43, 481],\n",
       "        [ 60, 467],\n",
       "        [ 67, 477]],\n",
       "\n",
       "       [[605, 368],\n",
       "        [214, 365],\n",
       "        [216,  77],\n",
       "        [607,  80]],\n",
       "\n",
       "       [[751, 319],\n",
       "        [737, 318],\n",
       "        [739, 290],\n",
       "        [752, 291]]], dtype=int64)"
      ]
     },
     "execution_count": 28,
     "metadata": {},
     "output_type": "execute_result"
    }
   ],
   "source": [
    "arr_points"
   ]
  },
  {
   "cell_type": "code",
   "execution_count": null,
   "metadata": {},
   "outputs": [],
   "source": [
    "median_list = []"
   ]
  },
  {
   "cell_type": "code",
   "execution_count": 60,
   "metadata": {},
   "outputs": [
    {
     "name": "stdout",
     "output_type": "stream",
     "text": [
      "603\n",
      "[603 747 753 747 746  33 746 241 789 759 599 746 743 739 596 799  29 662\n",
      " 595 739 593  27 594 739 592 741 741  25 592 737 592 740 739 735 735  22\n",
      " 590 738 590 738 735  20 590 735 589 733 738 734 733 742 732 742 733 742\n",
      " 588 736 587 732 587 732 587 733 587 663 587 733 733  19 733  19 733  20\n",
      " 733  20 733  21 741 229 736 733 733  21 588 733 732  22 588 677  20 741\n",
      " 588 735 660 747 733  21 731 668 732  22 588 732 588 732 733  23 588 733\n",
      " 587 734 588 734 737 733 589 733 589 662 735  23 588 734 738 734 590 749\n",
      " 590 739 739 736 589 735 740 737 740 737 736  28 592 736 593 741 741 738\n",
      " 591 741 737  30 592 737 741 738 748 752 594 739 592 739 592 739 743  34\n",
      " 745 739  37 688 741  37 596 743 748 742  41 240 744  42 597 743 731  43\n",
      " 598 745  45 244 746  45 599 750 600 746 600 750 601 748 601 747 602 749\n",
      " 748  50 750  50 603 750 603  50 604 751 604 751 751  50 604  50 604  52\n",
      " 604 750 604 750 750 252 604  52 752  51 752  51 604 754 604 751 752 252\n",
      " 752  51 604 752 605 752 752 252 751  52 751  51 605 751]\n"
     ]
    },
    {
     "ename": "AttributeError",
     "evalue": "'numpy.ndarray' object has no attribute 'median'",
     "output_type": "error",
     "traceback": [
      "\u001b[1;31m---------------------------------------------------------------------------\u001b[0m",
      "\u001b[1;31mAttributeError\u001b[0m                            Traceback (most recent call last)",
      "\u001b[1;32m<ipython-input-60-72fdab2507ea>\u001b[0m in \u001b[0;36m<module>\u001b[1;34m\u001b[0m\n\u001b[0;32m      6\u001b[0m     \u001b[0myt\u001b[0m \u001b[1;33m=\u001b[0m \u001b[0mnp\u001b[0m\u001b[1;33m.\u001b[0m\u001b[0mresize\u001b[0m\u001b[1;33m(\u001b[0m\u001b[0my\u001b[0m\u001b[1;33m,\u001b[0m \u001b[1;33m(\u001b[0m\u001b[1;36m248\u001b[0m\u001b[1;33m)\u001b[0m\u001b[1;33m)\u001b[0m\u001b[1;33m\u001b[0m\u001b[1;33m\u001b[0m\u001b[0m\n\u001b[0;32m      7\u001b[0m     \u001b[0mprint\u001b[0m\u001b[1;33m(\u001b[0m\u001b[0mxt\u001b[0m\u001b[1;33m)\u001b[0m\u001b[1;33m\u001b[0m\u001b[1;33m\u001b[0m\u001b[0m\n\u001b[1;32m----> 8\u001b[1;33m     \u001b[0mxm\u001b[0m \u001b[1;33m=\u001b[0m \u001b[0mxt\u001b[0m\u001b[1;33m.\u001b[0m\u001b[0mmedian\u001b[0m\u001b[1;33m(\u001b[0m\u001b[1;33m)\u001b[0m\u001b[1;33m\u001b[0m\u001b[1;33m\u001b[0m\u001b[0m\n\u001b[0m\u001b[0;32m      9\u001b[0m     \u001b[0mym\u001b[0m \u001b[1;33m=\u001b[0m \u001b[0myt\u001b[0m\u001b[1;33m.\u001b[0m\u001b[0mmedian\u001b[0m\u001b[1;33m(\u001b[0m\u001b[1;33m)\u001b[0m\u001b[1;33m\u001b[0m\u001b[1;33m\u001b[0m\u001b[0m\n\u001b[0;32m     10\u001b[0m     \u001b[0mmedian_list\u001b[0m\u001b[1;33m.\u001b[0m\u001b[0mappend\u001b[0m\u001b[1;33m(\u001b[0m\u001b[1;33m[\u001b[0m\u001b[0mxm\u001b[0m\u001b[1;33m,\u001b[0m\u001b[0mym\u001b[0m\u001b[1;33m]\u001b[0m\u001b[1;33m)\u001b[0m\u001b[1;33m\u001b[0m\u001b[1;33m\u001b[0m\u001b[0m\n",
      "\u001b[1;31mAttributeError\u001b[0m: 'numpy.ndarray' object has no attribute 'median'"
     ]
    }
   ],
   "source": [
    "for i in range(4):\n",
    "    x = arr_points[:,i:i+1,0:1]\n",
    "    y = arr_points[:,i:i+1,1:2]\n",
    "    xt = np.resize(x, (248))\n",
    "    yt = np.resize(y, (248))\n",
    "    print(xt)\n",
    "    xm = xt.median()\n",
    "    ym = yt.median()\n",
    "    median_list.append([xm,ym])"
   ]
  },
  {
   "cell_type": "code",
   "execution_count": 15,
   "metadata": {},
   "outputs": [
    {
     "ename": "AttributeError",
     "evalue": "'numpy.ndarray' object has no attribute 'median'",
     "output_type": "error",
     "traceback": [
      "\u001b[1;31m---------------------------------------------------------------------------\u001b[0m",
      "\u001b[1;31mAttributeError\u001b[0m                            Traceback (most recent call last)",
      "\u001b[1;32m<ipython-input-15-5850cd53daf7>\u001b[0m in \u001b[0;36m<module>\u001b[1;34m\u001b[0m\n\u001b[1;32m----> 1\u001b[1;33m \u001b[0marr_points\u001b[0m\u001b[1;33m.\u001b[0m\u001b[0mmedian\u001b[0m\u001b[1;33m(\u001b[0m\u001b[1;33m)\u001b[0m\u001b[1;33m\u001b[0m\u001b[1;33m\u001b[0m\u001b[0m\n\u001b[0m",
      "\u001b[1;31mAttributeError\u001b[0m: 'numpy.ndarray' object has no attribute 'median'"
     ]
    }
   ],
   "source": [
    "# creating a list of index names \n",
    "index_values = ['first', 'second', 'third', \n",
    "                'fourth', 'fifth', 'sixth', 'seventh'] \n",
    "   \n",
    "# creating a list of column names \n",
    "column_values = ['number', 'squares', 'cubes'] "
   ]
  },
  {
   "cell_type": "code",
   "execution_count": 9,
   "metadata": {},
   "outputs": [
    {
     "ename": "ValueError",
     "evalue": "The truth value of an array with more than one element is ambiguous. Use a.any() or a.all()",
     "output_type": "error",
     "traceback": [
      "\u001b[1;31m---------------------------------------------------------------------------\u001b[0m",
      "\u001b[1;31mValueError\u001b[0m                                Traceback (most recent call last)",
      "\u001b[1;32m<ipython-input-9-27a65a18cfe9>\u001b[0m in \u001b[0;36m<module>\u001b[1;34m\u001b[0m\n\u001b[0;32m      1\u001b[0m \u001b[1;31m#Steps to do\u001b[0m\u001b[1;33m\u001b[0m\u001b[1;33m\u001b[0m\u001b[1;33m\u001b[0m\u001b[0m\n\u001b[1;32m----> 2\u001b[1;33m \u001b[0mpoints\u001b[0m \u001b[1;33m=\u001b[0m \u001b[0msorted\u001b[0m\u001b[1;33m(\u001b[0m\u001b[0mpoints\u001b[0m\u001b[1;33m)\u001b[0m\u001b[1;33m\u001b[0m\u001b[1;33m\u001b[0m\u001b[0m\n\u001b[0m\u001b[0;32m      3\u001b[0m \u001b[0mmid\u001b[0m \u001b[1;33m=\u001b[0m \u001b[0mlen\u001b[0m\u001b[1;33m(\u001b[0m\u001b[0mtest_list\u001b[0m\u001b[1;33m)\u001b[0m \u001b[1;33m//\u001b[0m \u001b[1;36m2\u001b[0m\u001b[1;33m\u001b[0m\u001b[1;33m\u001b[0m\u001b[0m\n\u001b[0;32m      4\u001b[0m \u001b[0mres\u001b[0m \u001b[1;33m=\u001b[0m \u001b[1;33m(\u001b[0m\u001b[0mpoints\u001b[0m\u001b[1;33m[\u001b[0m\u001b[0mmid\u001b[0m\u001b[1;33m]\u001b[0m \u001b[1;33m+\u001b[0m \u001b[0mpoints\u001b[0m\u001b[1;33m[\u001b[0m\u001b[1;33m~\u001b[0m\u001b[0mmid\u001b[0m\u001b[1;33m]\u001b[0m\u001b[1;33m)\u001b[0m \u001b[1;33m/\u001b[0m \u001b[1;36m2\u001b[0m\u001b[1;33m\u001b[0m\u001b[1;33m\u001b[0m\u001b[0m\n",
      "\u001b[1;31mValueError\u001b[0m: The truth value of an array with more than one element is ambiguous. Use a.any() or a.all()"
     ]
    }
   ],
   "source": [
    "#Steps to do\n",
    "points = sorted(points)\n",
    "mid = len(test_list) // 2\n",
    "res = (points[mid] + points[~mid]) / 2"
   ]
  }
 ],
 "metadata": {
  "kernelspec": {
   "display_name": "Python 3",
   "language": "python",
   "name": "python3"
  },
  "language_info": {
   "codemirror_mode": {
    "name": "ipython",
    "version": 3
   },
   "file_extension": ".py",
   "mimetype": "text/x-python",
   "name": "python",
   "nbconvert_exporter": "python",
   "pygments_lexer": "ipython3",
   "version": "3.7.3"
  }
 },
 "nbformat": 4,
 "nbformat_minor": 2
}
