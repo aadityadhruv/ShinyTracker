{
 "cells": [
  {
   "cell_type": "code",
   "execution_count": 1,
   "metadata": {},
   "outputs": [],
   "source": [
    "import numpy as np\n",
    "import pandas as pd\n",
    "import cv2 as cv\n",
    "import cv2\n",
    "import matplotlib.pyplot as plt\n",
    "%matplotlib inline\n",
    "import time\n",
    "from pytube import YouTube\n",
    "import os\n",
    "import shutil\n",
    "import math\n",
    "import datetime\n",
    "import random"
   ]
  },
  {
   "cell_type": "code",
   "execution_count": null,
   "metadata": {},
   "outputs": [],
   "source": [
    "videofile='werster_white_2_fast_2020.mp4'"
   ]
  },
  {
   "cell_type": "code",
   "execution_count": null,
   "metadata": {},
   "outputs": [],
   "source": [
    "video =cv2.VideoCapture(videofile)"
   ]
  },
  {
   "cell_type": "code",
   "execution_count": 4,
   "metadata": {},
   "outputs": [],
   "source": [
    "#Cropping done manually using trial error\n",
    "#test_img = cv2.imread('test_frame.png')\n",
    "#plt.imshow(test_img)\n",
    "#roi = test_img[:-45, 375:]\n",
    "#plt.imshow(roi)"
   ]
  },
  {
   "cell_type": "code",
   "execution_count": 5,
   "metadata": {},
   "outputs": [],
   "source": [
    "def getFrame(vidcap, sec, thresh=100): \n",
    "    vidcap.set(cv2.CAP_PROP_POS_MSEC,sec*1000) \n",
    "    hasFrames,image = vidcap.read()\n",
    "    is_good = False\n",
    "    if hasFrames:\n",
    "        image = image[:-45, 375:]\n",
    "        pixels = np.float32(image.reshape(-1, 3))\n",
    "        n_colors = 5\n",
    "        criteria = (cv2.TERM_CRITERIA_EPS + cv2.TERM_CRITERIA_MAX_ITER, 200, .1)\n",
    "        flags = cv2.KMEANS_RANDOM_CENTERS\n",
    "\n",
    "        _, labels, palette = cv2.kmeans(pixels, n_colors, None, criteria, 10, flags)\n",
    "        _, counts = np.unique(labels, return_counts=True)\n",
    "        \n",
    "        dominant = palette[np.argmax(counts)]\n",
    "        \n",
    "        if (np.sum(dominant) > thresh):\n",
    "            is_good = True\n",
    "            cv2.imwrite(\"images/frame_\"+str(sec)+\" sec.png\", image)     # save frame as PNG file \n",
    "    return is_good "
   ]
  },
  {
   "cell_type": "code",
   "execution_count": 13,
   "metadata": {},
   "outputs": [
    {
     "name": "stdout",
     "output_type": "stream",
     "text": [
      "Progress:  0  %\n",
      "Progress:  5  %\n",
      "Progress:  10  %\n",
      "Progress:  15  %\n",
      "Progress:  20  %\n",
      "Progress:  25  %\n",
      "Progress:  25  %\n",
      "Progress:  30  %\n",
      "Progress:  35  %\n",
      "Progress:  40  %\n",
      "Progress:  45  %\n",
      "Progress:  50  %\n",
      "Progress:  55  %\n",
      "Progress:  60  %\n",
      "Progress:  65  %\n",
      "Progress:  65  %\n",
      "Progress:  65  %\n",
      "Progress:  70  %\n",
      "Progress:  70  %\n",
      "Progress:  75  %\n",
      "Progress:  80  %\n",
      "Progress:  80  %\n",
      "Progress:  85  %\n",
      "Progress:  90  %\n",
      "Progress:  95  %\n",
      "Progress:  95  %\n",
      "Progress:  95  %\n"
     ]
    }
   ],
   "source": [
    "vid_length = 12174\n",
    "sec = random.randrange(100, vid_length - 1)\n",
    "max_samples = 1000\n",
    "progress = 0\n",
    "i = 0\n",
    "while i < max_samples: \n",
    "    sec = random.randrange(100, vid_length - 1)\n",
    "    sec = round(sec, 2) \n",
    "    is_good = getFrame(video, sec)\n",
    "    progress = i / max_samples\n",
    "    progress *= 100\n",
    "    progress = np.int32(progress)\n",
    "    if (i % 50 == 0):\n",
    "        print(\"Progress: \", progress, \" %\")\n",
    "    if is_good:\n",
    "        i += 1"
   ]
  },
  {
   "cell_type": "code",
   "execution_count": 8,
   "metadata": {},
   "outputs": [],
   "source": [
    "for count, filename in enumerate(os.listdir(\"images\")):\n",
    "    dst =\"frame\" + str(count) + \".png\"\n",
    "    src ='images/'+ filename \n",
    "    dst ='images/'+ dst \n",
    "\n",
    "    # rename() function will \n",
    "    # rename all the files \n",
    "    os.rename(src, dst) "
   ]
  },
  {
   "cell_type": "code",
   "execution_count": 2,
   "metadata": {},
   "outputs": [],
   "source": [
    "videofile2='werster_white_2_cm_2020.mp4'"
   ]
  },
  {
   "cell_type": "code",
   "execution_count": 3,
   "metadata": {},
   "outputs": [],
   "source": [
    "video2 =cv2.VideoCapture(videofile2)"
   ]
  },
  {
   "cell_type": "code",
   "execution_count": 6,
   "metadata": {},
   "outputs": [
    {
     "name": "stdout",
     "output_type": "stream",
     "text": [
      "Progress:  0  %\n",
      "Progress:  5  %\n",
      "Progress:  10  %\n",
      "Progress:  15  %\n",
      "Progress:  20  %\n",
      "Progress:  25  %\n",
      "Progress:  30  %\n",
      "Progress:  35  %\n",
      "Progress:  40  %\n",
      "Progress:  45  %\n",
      "Progress:  45  %\n",
      "Progress:  50  %\n"
     ]
    },
    {
     "ename": "KeyboardInterrupt",
     "evalue": "",
     "output_type": "error",
     "traceback": [
      "\u001b[1;31m---------------------------------------------------------------------------\u001b[0m",
      "\u001b[1;31mKeyboardInterrupt\u001b[0m                         Traceback (most recent call last)",
      "\u001b[1;32m<ipython-input-6-4e13f06f30b6>\u001b[0m in \u001b[0;36m<module>\u001b[1;34m\u001b[0m\n\u001b[0;32m      7\u001b[0m     \u001b[0msec\u001b[0m \u001b[1;33m=\u001b[0m \u001b[0mrandom\u001b[0m\u001b[1;33m.\u001b[0m\u001b[0mrandrange\u001b[0m\u001b[1;33m(\u001b[0m\u001b[1;36m100\u001b[0m\u001b[1;33m,\u001b[0m \u001b[0mvid_length\u001b[0m \u001b[1;33m-\u001b[0m \u001b[1;36m1\u001b[0m\u001b[1;33m)\u001b[0m\u001b[1;33m\u001b[0m\u001b[1;33m\u001b[0m\u001b[0m\n\u001b[0;32m      8\u001b[0m     \u001b[0msec\u001b[0m \u001b[1;33m=\u001b[0m \u001b[0mround\u001b[0m\u001b[1;33m(\u001b[0m\u001b[0msec\u001b[0m\u001b[1;33m,\u001b[0m \u001b[1;36m2\u001b[0m\u001b[1;33m)\u001b[0m\u001b[1;33m\u001b[0m\u001b[1;33m\u001b[0m\u001b[0m\n\u001b[1;32m----> 9\u001b[1;33m     \u001b[0mis_good\u001b[0m \u001b[1;33m=\u001b[0m \u001b[0mgetFrame\u001b[0m\u001b[1;33m(\u001b[0m\u001b[0mvideo2\u001b[0m\u001b[1;33m,\u001b[0m \u001b[0msec\u001b[0m\u001b[1;33m)\u001b[0m\u001b[1;33m\u001b[0m\u001b[1;33m\u001b[0m\u001b[0m\n\u001b[0m\u001b[0;32m     10\u001b[0m     \u001b[0mprogress\u001b[0m \u001b[1;33m=\u001b[0m \u001b[0mi\u001b[0m \u001b[1;33m/\u001b[0m \u001b[0mmax_samples\u001b[0m\u001b[1;33m\u001b[0m\u001b[1;33m\u001b[0m\u001b[0m\n\u001b[0;32m     11\u001b[0m     \u001b[0mprogress\u001b[0m \u001b[1;33m*=\u001b[0m \u001b[1;36m100\u001b[0m\u001b[1;33m\u001b[0m\u001b[1;33m\u001b[0m\u001b[0m\n",
      "\u001b[1;32m<ipython-input-5-79ceebb4a8f4>\u001b[0m in \u001b[0;36mgetFrame\u001b[1;34m(vidcap, sec, thresh)\u001b[0m\n\u001b[0;32m     10\u001b[0m         \u001b[0mflags\u001b[0m \u001b[1;33m=\u001b[0m \u001b[0mcv2\u001b[0m\u001b[1;33m.\u001b[0m\u001b[0mKMEANS_RANDOM_CENTERS\u001b[0m\u001b[1;33m\u001b[0m\u001b[1;33m\u001b[0m\u001b[0m\n\u001b[0;32m     11\u001b[0m \u001b[1;33m\u001b[0m\u001b[0m\n\u001b[1;32m---> 12\u001b[1;33m         \u001b[0m_\u001b[0m\u001b[1;33m,\u001b[0m \u001b[0mlabels\u001b[0m\u001b[1;33m,\u001b[0m \u001b[0mpalette\u001b[0m \u001b[1;33m=\u001b[0m \u001b[0mcv2\u001b[0m\u001b[1;33m.\u001b[0m\u001b[0mkmeans\u001b[0m\u001b[1;33m(\u001b[0m\u001b[0mpixels\u001b[0m\u001b[1;33m,\u001b[0m \u001b[0mn_colors\u001b[0m\u001b[1;33m,\u001b[0m \u001b[1;32mNone\u001b[0m\u001b[1;33m,\u001b[0m \u001b[0mcriteria\u001b[0m\u001b[1;33m,\u001b[0m \u001b[1;36m10\u001b[0m\u001b[1;33m,\u001b[0m \u001b[0mflags\u001b[0m\u001b[1;33m)\u001b[0m\u001b[1;33m\u001b[0m\u001b[1;33m\u001b[0m\u001b[0m\n\u001b[0m\u001b[0;32m     13\u001b[0m         \u001b[0m_\u001b[0m\u001b[1;33m,\u001b[0m \u001b[0mcounts\u001b[0m \u001b[1;33m=\u001b[0m \u001b[0mnp\u001b[0m\u001b[1;33m.\u001b[0m\u001b[0munique\u001b[0m\u001b[1;33m(\u001b[0m\u001b[0mlabels\u001b[0m\u001b[1;33m,\u001b[0m \u001b[0mreturn_counts\u001b[0m\u001b[1;33m=\u001b[0m\u001b[1;32mTrue\u001b[0m\u001b[1;33m)\u001b[0m\u001b[1;33m\u001b[0m\u001b[1;33m\u001b[0m\u001b[0m\n\u001b[0;32m     14\u001b[0m \u001b[1;33m\u001b[0m\u001b[0m\n",
      "\u001b[1;31mKeyboardInterrupt\u001b[0m: "
     ]
    }
   ],
   "source": [
    "vid_length = 12083 \n",
    "sec = random.randrange(100, vid_length - 1)\n",
    "max_samples = 1000\n",
    "progress = 0\n",
    "i = 0\n",
    "while i < max_samples: \n",
    "    sec = random.randrange(100, vid_length - 1)\n",
    "    sec = round(sec, 2)  \n",
    "    is_good = getFrame(video2, sec)\n",
    "    progress = i / max_samples\n",
    "    progress *= 100\n",
    "    progress = np.int32(progress)\n",
    "    if (i % 50 == 0):\n",
    "        print(\"Progress: \", progress, \" %\")\n",
    "    if is_good:\n",
    "        i += 1"
   ]
  }
 ],
 "metadata": {
  "kernelspec": {
   "display_name": "Python 3",
   "language": "python",
   "name": "python3"
  },
  "language_info": {
   "codemirror_mode": {
    "name": "ipython",
    "version": 3
   },
   "file_extension": ".py",
   "mimetype": "text/x-python",
   "name": "python",
   "nbconvert_exporter": "python",
   "pygments_lexer": "ipython3",
   "version": "3.7.3"
  }
 },
 "nbformat": 4,
 "nbformat_minor": 2
}
