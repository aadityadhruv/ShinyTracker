{
 "cells": [
  {
   "cell_type": "code",
   "execution_count": 15,
   "metadata": {},
   "outputs": [],
   "source": [
    "import numpy as np\n",
    "import pandas as pd\n",
    "import cv2 as cv\n",
    "import cv2\n",
    "import matplotlib.pyplot as plt\n",
    "%matplotlib inline\n",
    "import time\n",
    "from pytube import YouTube\n",
    "import os\n",
    "import shutil\n",
    "import math\n",
    "import datetime\n",
    "import random"
   ]
  },
  {
   "cell_type": "code",
   "execution_count": 9,
   "metadata": {},
   "outputs": [],
   "source": [
    "videofile='werster_white_2_fast_2020.mp4'"
   ]
  },
  {
   "cell_type": "code",
   "execution_count": 10,
   "metadata": {},
   "outputs": [],
   "source": [
    "video =cv2.VideoCapture(videofile)"
   ]
  },
  {
   "cell_type": "code",
   "execution_count": 40,
   "metadata": {},
   "outputs": [],
   "source": [
    "#Cropping done manually using trial error\n",
    "#test_img = cv2.imread('test_frame.png')\n",
    "#plt.imshow(test_img)\n",
    "#roi = test_img[:-45, 375:]\n",
    "#plt.imshow(roi)"
   ]
  },
  {
   "cell_type": "code",
   "execution_count": 21,
   "metadata": {},
   "outputs": [],
   "source": [
    "def getFrame(vidcap, sec): \n",
    "    vidcap.set(cv2.CAP_PROP_POS_MSEC,sec*1000) \n",
    "    hasFrames,image = vidcap.read()\n",
    "    a = True\n",
    "    if hasFrames: \n",
    "        image = image[:-45, 375:]\n",
    "        cv2.imwrite(\"images/frame \"+str(sec)+\" sec.png\", image)     # save frame as PNG file \n",
    "    return hasFrames "
   ]
  },
  {
   "cell_type": "code",
   "execution_count": 25,
   "metadata": {},
   "outputs": [],
   "source": [
    "vid_length = 12174\n",
    "sec = random.randrange(100, vid_length - 1)\n",
    "max_samples = 1000\n",
    "i = 0\n",
    "while i < 1000: \n",
    "    sec = random.randrange(100, vid_length - 1)\n",
    "    sec = round(sec, 2) \n",
    "    getFrame(video, sec)\n",
    "    i += 1"
   ]
  }
 ],
 "metadata": {
  "kernelspec": {
   "display_name": "Python 3",
   "language": "python",
   "name": "python3"
  },
  "language_info": {
   "codemirror_mode": {
    "name": "ipython",
    "version": 3
   },
   "file_extension": ".py",
   "mimetype": "text/x-python",
   "name": "python",
   "nbconvert_exporter": "python",
   "pygments_lexer": "ipython3",
   "version": "3.7.3"
  }
 },
 "nbformat": 4,
 "nbformat_minor": 2
}
