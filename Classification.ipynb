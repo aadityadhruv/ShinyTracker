{
 "cells": [
  {
   "cell_type": "code",
   "execution_count": 15,
   "metadata": {},
   "outputs": [],
   "source": [
    "import numpy as np\n",
    "import pandas as pd\n",
    "import cv2 as cv\n",
    "import cv2\n",
    "import matplotlib.pyplot as plt\n",
    "%matplotlib inline\n",
    "import time\n",
    "from pytube import YouTube\n",
    "import os\n",
    "import shutil\n",
    "import math\n",
    "import datetime\n",
    "import random"
   ]
  },
  {
   "cell_type": "code",
   "execution_count": 9,
   "metadata": {},
   "outputs": [],
   "source": [
    "videofile='werster_white_2_fast_2020.mp4'"
   ]
  },
  {
   "cell_type": "code",
   "execution_count": 10,
   "metadata": {},
   "outputs": [],
   "source": [
    "video =cv2.VideoCapture(videofile)"
   ]
  },
  {
   "cell_type": "code",
   "execution_count": 16,
   "metadata": {},
   "outputs": [],
   "source": [
    "def getFrame(vidcap, sec): \n",
    "    vidcap.set(cv2.CAP_PROP_POS_MSEC,sec*1000) \n",
    "    hasFrames,image = vidcap.read() \n",
    "    if hasFrames: \n",
    "        cv2.imwrite(\"images/frame \"+str(sec)+\" sec.jpg\", image)     # save frame as JPG file \n",
    "    return hasFrames "
   ]
  },
  {
   "cell_type": "code",
   "execution_count": 19,
   "metadata": {},
   "outputs": [],
   "source": [
    "vid_length = 12174\n",
    "sec = random.randrange(100, vid_length - 1)\n",
    "success = 0\n",
    "max_samples = 1000\n",
    "i = 0\n",
    "while i < max_samples: \n",
    "    sec = random.randrange(100, vid_length - 1)\n",
    "    sec = round(sec, 2) \n",
    "    success = getFrame(video, sec)\n",
    "    i += 1"
   ]
  }
 ],
 "metadata": {
  "kernelspec": {
   "display_name": "Python 3",
   "language": "python",
   "name": "python3"
  },
  "language_info": {
   "codemirror_mode": {
    "name": "ipython",
    "version": 3
   },
   "file_extension": ".py",
   "mimetype": "text/x-python",
   "name": "python",
   "nbconvert_exporter": "python",
   "pygments_lexer": "ipython3",
   "version": "3.7.3"
  }
 },
 "nbformat": 4,
 "nbformat_minor": 2
}
